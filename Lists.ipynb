{
 "cells": [
  {
   "cell_type": "code",
   "execution_count": 1,
   "metadata": {},
   "outputs": [
    {
     "name": "stdout",
     "output_type": "stream",
     "text": [
      "Papa John's Pizza\n"
     ]
    }
   ],
   "source": [
    "stocks = {\n",
    "    \"CAKE\" : \"Cheesecake Factory\",\n",
    "    \"PZZA\" : \"Papa John's Pizza\",\n",
    "    \"CAR\" : \"Avis Budget Group\",\n",
    "}\n",
    "\n",
    "print(stocks[\"PZZA\"])"
   ]
  },
  {
   "cell_type": "code",
   "execution_count": 2,
   "metadata": {},
   "outputs": [
    {
     "name": "stdout",
     "output_type": "stream",
     "text": [
      "Cheesecake Factory has ticker CAKE\n",
      "Papa John's Pizza has ticker PZZA\n",
      "Avis Budget Group has ticker CAR\n"
     ]
    }
   ],
   "source": [
    "for ticker, name in stocks.items():\n",
    "    print(\"{} has ticker {}\".format(name, ticker))"
   ]
  },
  {
   "cell_type": "code",
   "execution_count": null,
   "metadata": {},
   "outputs": [],
   "source": []
  }
 ],
 "metadata": {
  "kernelspec": {
   "display_name": "Python 3",
   "language": "python",
   "name": "python3"
  },
  "language_info": {
   "codemirror_mode": {
    "name": "ipython",
    "version": 3
   },
   "file_extension": ".py",
   "mimetype": "text/x-python",
   "name": "python",
   "nbconvert_exporter": "python",
   "pygments_lexer": "ipython3",
   "version": "3.7.6"
  }
 },
 "nbformat": 4,
 "nbformat_minor": 4
}
